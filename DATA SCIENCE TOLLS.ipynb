{
 "cells": [
  {
   "cell_type": "markdown",
   "id": "01205cbd-8826-497d-aa59-55cde1f80c36",
   "metadata": {},
   "source": [
    "# Data Science Tools and Ecosystem"
   ]
  },
  {
   "cell_type": "markdown",
   "id": "396a4d17-1058-4ce3-adb0-2338c442d216",
   "metadata": {},
   "source": [
    "In thos notebook, Data Science Tools and Ecosystem are summarized."
   ]
  },
  {
   "cell_type": "markdown",
   "id": "c6df172b-b97d-4c87-94bd-8ecd7e0aa347",
   "metadata": {},
   "source": [
    "### Some of popular languages that Data Scientists use are:\n",
    "\n",
    "1. Python\n",
    "2. R\n",
    "3. Java\n",
    "4. C++\n",
    "5. Go\n",
    "6. SQL\n",
    "7. Julia"
   ]
  },
  {
   "cell_type": "markdown",
   "id": "4cfbb695-3593-48e5-9259-d36006987814",
   "metadata": {},
   "source": [
    "### Some of the commonly used libraries used by Data Scientist include:\n",
    "\n",
    "- Pandas\n",
    "- NumPy\n",
    "- SciPy\n",
    "- Scrapy\n",
    "- Matplatlib\n",
    "- Seaborn\n",
    "- Scikit-Leanr"
   ]
  },
  {
   "cell_type": "markdown",
   "id": "490ecc0e-3212-4b6d-8215-89857435a639",
   "metadata": {},
   "source": [
    "|   Data    |\n",
    "|:---------|\n",
    "|Anaconda|\n",
    "|R Studio|\n",
    "|Spyder|\n",
    "|Apache Spark|"
   ]
  },
  {
   "cell_type": "markdown",
   "id": "e2514c70-0ecb-4ac7-ab6a-47df953ff196",
   "metadata": {},
   "source": [
    "#### Below are a few examples of evaluating arithmetic expressions in Python"
   ]
  },
  {
   "cell_type": "code",
   "execution_count": 22,
   "id": "c1d4e476-37a1-49d5-bd1f-59988e536962",
   "metadata": {},
   "outputs": [
    {
     "data": {
      "text/plain": [
       "17"
      ]
     },
     "execution_count": 22,
     "metadata": {},
     "output_type": "execute_result"
    }
   ],
   "source": [
    "#This a simple aritmetic expression to multiply then add integers\n",
    "(3*4)+5\n"
   ]
  },
  {
   "cell_type": "code",
   "execution_count": 23,
   "id": "51f6724d-5331-45a8-8222-a9482b2087f6",
   "metadata": {},
   "outputs": [
    {
     "data": {
      "text/plain": [
       "3"
      ]
     },
     "execution_count": 23,
     "metadata": {},
     "output_type": "execute_result"
    }
   ],
   "source": [
    "# This will convert 200 minutos to hours by diving by 60\n",
    "\n",
    "200//60"
   ]
  },
  {
   "cell_type": "markdown",
   "id": "5c18b231-b0c9-47fc-b3ef-96f0a9407b5a",
   "metadata": {},
   "source": [
    "### Objectives:\n",
    "\n",
    "- Add comments to code cell\n",
    "- Create markdown cells\n",
    "- Format content of markdowm "
   ]
  },
  {
   "cell_type": "markdown",
   "id": "8b711ede-378d-4405-aeae-c3783f1ec05e",
   "metadata": {},
   "source": [
    "### Autor\n",
    "\n",
    "Katherinne Karla Flores Velasquez"
   ]
  }
 ],
 "metadata": {
  "kernelspec": {
   "display_name": "Python 3 (ipykernel)",
   "language": "python",
   "name": "python3"
  },
  "language_info": {
   "codemirror_mode": {
    "name": "ipython",
    "version": 3
   },
   "file_extension": ".py",
   "mimetype": "text/x-python",
   "name": "python",
   "nbconvert_exporter": "python",
   "pygments_lexer": "ipython3",
   "version": "3.11.7"
  }
 },
 "nbformat": 4,
 "nbformat_minor": 5
}
